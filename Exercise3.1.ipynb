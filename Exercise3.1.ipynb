{
 "cells": [
  {
   "cell_type": "markdown",
   "id": "09553589",
   "metadata": {},
   "source": [
    "# DECODING A HIDDEN MESSAGE"
   ]
  },
  {
   "cell_type": "code",
   "execution_count": 2,
   "id": "0104d924",
   "metadata": {},
   "outputs": [
    {
     "name": "stdout",
     "output_type": "stream",
     "text": [
      "Successfully decoded: Mom I will not be home for supper\n"
     ]
    }
   ],
   "source": [
    "import wave \n",
    "\n",
    "input_file = 'Ex3_sound1.wav'\n",
    "\n",
    "input_wave = wave.open(input_file, mode='rb')\n",
    "frame_bytes_decode = bytearray(list(input_wave.readframes(input_wave.getnframes())))\n",
    "input_wave.close()\n",
    "\n",
    "# Extract the LSBs from the frames\n",
    "extracted = [frame_byte & 1 for frame_byte in frame_bytes_decode]\n",
    "\n",
    "# Convert the extracted bits back to a string\n",
    "string = ''.join(chr(int(\"\".join(map(str, extracted[i:i + 8])), 2)) for i in range(0, len(extracted), 8))\n",
    "\n",
    "# Find the end of the actual message using a unique delimiter\n",
    "delimiter = \"###\"\n",
    "end_index = string.find(delimiter)\n",
    "\n",
    "# Remove dummy data\n",
    "decoded = string[:end_index]\n",
    "\n",
    "print(f\"Successfully decoded: {decoded}\")\n"
   ]
  },
  {
   "cell_type": "markdown",
   "id": "ac1055a4",
   "metadata": {},
   "source": [
    "###  Message : Mom I will not be home for supper"
   ]
  },
  {
   "cell_type": "code",
   "execution_count": null,
   "id": "1cd70637",
   "metadata": {},
   "outputs": [],
   "source": []
  }
 ],
 "metadata": {
  "kernelspec": {
   "display_name": "Python 3 (ipykernel)",
   "language": "python",
   "name": "python3"
  },
  "language_info": {
   "codemirror_mode": {
    "name": "ipython",
    "version": 3
   },
   "file_extension": ".py",
   "mimetype": "text/x-python",
   "name": "python",
   "nbconvert_exporter": "python",
   "pygments_lexer": "ipython3",
   "version": "3.9.13"
  }
 },
 "nbformat": 4,
 "nbformat_minor": 5
}
