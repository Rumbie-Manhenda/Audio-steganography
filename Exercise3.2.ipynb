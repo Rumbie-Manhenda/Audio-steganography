{
 "cells": [
  {
   "cell_type": "code",
   "execution_count": null,
   "metadata": {},
   "outputs": [],
   "source": [
    "import wave\n",
    "import numpy as np\n",
    "from scipy.io import wavfile\n",
    "from scipy.signal import find_peaks,butter, sosfreqz, sosfilt,spectrogram\n",
    "import sounddevice as sd\n",
    "import scipy.io.wavfile as wav\n",
    "from pydub import AudioSegment\n",
    "from pydub.playback import play\n",
    "\n",
    "\n",
    "import matplotlib.pyplot as plt\n",
    "\n",
    "from IPython.display import Audio"
   ]
  },
  {
   "cell_type": "code",
   "execution_count": null,
   "metadata": {},
   "outputs": [],
   "source": [
    "!pip3 uninstall sounddevice\n"
   ]
  },
  {
   "cell_type": "code",
   "execution_count": null,
   "metadata": {},
   "outputs": [],
   "source": [
    "\n",
    "def load_audio(file_path):\n",
    "    rate, data = wav.read(file_path)\n",
    "    return rate, data\n",
    "\n",
    "def plot_spectrum(rate, data, file_name, ax):\n",
    "    f, t, Sxx = spectrogram(data, fs=rate, nperseg=1024)\n",
    "    im = ax.pcolormesh(t, f, 10 * np.log10(Sxx))\n",
    "    ax.set_title(f'Frequency Spectrum - {file_name}')\n",
    "    ax.set_ylabel('Frequency [Hz]')\n",
    "    ax.set_xlabel('Time [sec]')\n",
    "    return im\n",
    "\n",
    "def detect_ultrasonic_signal(audio_file):\n",
    "      # Perform FFT to analyze frequency content and locate peaks\n",
    "    sample_rate, data = wavfile.read(audio_file)\n",
    "    spectrum = np.fft.fft(data)\n",
    "    frequencies = np.fft.fftfreq(len(spectrum), d=1/sample_rate)\n",
    "    peaks, _ = find_peaks(np.abs(spectrum), height=1000)  # Adjust height threshold as needed\n",
    "    # Filter out low-frequency peaks \n",
    "    ultrasonic_peaks = [freq for freq in frequencies[peaks] if freq > 22200]\n",
    "    return ultrasonic_peaks[0] if ultrasonic_peaks else None\n",
    "\n",
    "\n",
    "def demodulate_amplitude(rate, data, ultrasonic_frequency):\n",
    "    t = np.arange(len(data)) / rate\n",
    "    demodulated_signal = data * np.cos(2 * np.pi * ultrasonic_frequency * t)\n",
    "    return demodulated_signal\n",
    "\n",
    "def play_secret_code(secret_code, audible_frequency, rate, output_file=\"output.wav\"):\n",
    "    secret_code = secret_code.astype(np.int16)\n",
    "    audio_data = secret_code * np.cos(2 * np.pi * audible_frequency * np.arange(len(secret_code)) / rate)\n",
    "    audio_data_normalized = (audio_data / np.max(np.abs(audio_data))) * 32767\n",
    "    # Save the audio to a .wav file\n",
    "    wavfile.write(output_file, rate, audio_data_normalized.astype(np.int16))\n",
    "    # Play the normalized audio using sounddevice\n",
    "    sd.play(audio_data_normalized, rate)\n",
    "    print(\"Secret code audio playing now... Listen well\")\n",
    "    sd.wait()\n",
    "\n",
    "file_paths = ['Ex3_sound2.wav', 'Ex3_sound3.wav', 'Ex3_sound4.wav']\n",
    "audible_frequency = 20 \n",
    "\n",
    "fig, axs = plt.subplots(len(file_paths), 1, figsize=(10, 6 * len(file_paths)))\n",
    "\n",
    "for i, file_path in enumerate(file_paths):\n",
    "    rate, data = load_audio(file_path)\n",
    "    im = plot_spectrum(rate, data, file_path, axs[i])\n",
    "    \n",
    "fig.subplots_adjust(right=0.85)\n",
    "cbar_ax = fig.add_axes([0.88, 0.15, 0.02, 0.7])\n",
    "fig.colorbar(im, cax=cbar_ax, label='Power/Frequency [dB/Hz]')\n",
    "plt.show()\n",
    "\n",
    "# Detect ultrasonic signals and play the secret code\n",
    "for file_path in file_paths:\n",
    "    rate, data = load_audio(file_path)\n",
    "\n",
    "    ultrasonic_frequency = detect_ultrasonic_signal(file_path)\n",
    "    if ultrasonic_frequency:\n",
    "        demodulated_signal = demodulate_amplitude(rate, data, ultrasonic_frequency)\n",
    "        play_secret_code(demodulated_signal, audible_frequency, rate, output_file=\"output.wav\")\n",
    "\n",
    "        print(f\"Ultrasonic-frequency found for {file_path} !!!\")\n",
    "       \n",
    "    else:\n",
    "        print(f\"No ultrasonic-frequency found for {file_path}\")\n"
   ]
  },
  {
   "cell_type": "code",
   "execution_count": null,
   "metadata": {},
   "outputs": [],
   "source": []
  },
  {
   "cell_type": "code",
   "execution_count": null,
   "metadata": {},
   "outputs": [],
   "source": []
  },
  {
   "cell_type": "code",
   "execution_count": null,
   "metadata": {},
   "outputs": [],
   "source": []
  },
  {
   "cell_type": "code",
   "execution_count": null,
   "metadata": {},
   "outputs": [],
   "source": []
  }
 ],
 "metadata": {
  "kernelspec": {
   "display_name": "Python 3 (ipykernel)",
   "language": "python",
   "name": "python3"
  },
  "language_info": {
   "codemirror_mode": {
    "name": "ipython",
    "version": 3
   },
   "file_extension": ".py",
   "mimetype": "text/x-python",
   "name": "python",
   "nbconvert_exporter": "python",
   "pygments_lexer": "ipython3",
   "version": "3.9.13"
  }
 },
 "nbformat": 4,
 "nbformat_minor": 2
}
