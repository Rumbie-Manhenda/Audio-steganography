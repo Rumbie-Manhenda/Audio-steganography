{
 "cells": [
  {
   "cell_type": "code",
   "execution_count": 1,
   "metadata": {},
   "outputs": [],
   "source": [
    "\n",
    "import wave\n",
    "\n"
   ]
  },
  {
   "cell_type": "code",
   "execution_count": 2,
   "metadata": {},
   "outputs": [],
   "source": [
    "#Read frames and convert to byte array\n",
    "with wave.open('Ex3_sound1.wav',mode = 'rb') as song:\n",
    "    frame_bytes = bytearray(list(song.readframes(song.getnframes())))\n",
    "\n",
    "    secret_message = \"I am in love\"\n",
    "\n",
    "    #add dummy data\n",
    "    string = secret_message+ int((len(frame_bytes)-(len(secret_message)*8*8))/8)*'#'\n",
    "\n",
    "    #convert text to bit array\n",
    "    bits = list(map(int,''.join([bin(ord(i)).lstrip('0b').rjust(8,'0')for i in string])))\n",
    "    #replace LSB of each byte of the audio by one bit from the string\n",
    "try:\n",
    "    for i, bit in enumerate(bits):\n",
    "        if i<len(frame_bytes):\n",
    "            frame_bytes[i]= (frame_bytes[i] & 254) | bit\n",
    "    frame_modified= bytes(frame_bytes)\n",
    "    with open('secrete_file.wav', mode ='wb')as f:\n",
    "        f.write(frame_modified)\n",
    "except Exception as e:\n",
    "    print(f\"An error occured:\",{e})"
   ]
  },
  {
   "cell_type": "code",
   "execution_count": 3,
   "metadata": {},
   "outputs": [],
   "source": []
  },
  {
   "cell_type": "markdown",
   "metadata": {},
   "source": [
    "# DECODING THE MESSAGE"
   ]
  },
  {
   "cell_type": "code",
   "execution_count": 8,
   "metadata": {},
   "outputs": [
    {
     "name": "stdout",
     "output_type": "stream",
     "text": [
      "Successfully decoded: Mom I will not be home for supper\n"
     ]
    }
   ],
   "source": [
    "import wave\n",
    "\n",
    "input_file = 'Ex3_sound1.wav'\n",
    "\n",
    "input_wave = wave.open(input_file, mode='rb')\n",
    "frame_bytes_decode = bytearray(list(input_wave.readframes(input_wave.getnframes())))\n",
    "input_wave.close()\n",
    "\n",
    "# Extract the LSBs from the frames\n",
    "extracted = [frame_byte & 1 for frame_byte in frame_bytes_decode]\n",
    "\n",
    "# Convert the extracted bits back to a string\n",
    "string = ''.join(chr(int(\"\".join(map(str, extracted[i:i + 8])), 2)) for i in range(0, len(extracted), 8))\n",
    "\n",
    "# Find the end of the actual message using a unique delimiter\n",
    "delimiter = \"###\"\n",
    "end_index = string.find(delimiter)\n",
    "\n",
    "# Remove filler data\n",
    "decoded = string[:end_index]\n",
    "\n",
    "print(f\"Successfully decoded: {decoded}\")\n"
   ]
  }
 ],
 "metadata": {
  "kernelspec": {
   "display_name": "Python 3 (ipykernel)",
   "language": "python",
   "name": "python3"
  },
  "language_info": {
   "codemirror_mode": {
    "name": "ipython",
    "version": 3
   },
   "file_extension": ".py",
   "mimetype": "text/x-python",
   "name": "python",
   "nbconvert_exporter": "python",
   "pygments_lexer": "ipython3",
   "version": "3.9.13"
  }
 },
 "nbformat": 4,
 "nbformat_minor": 2
}
